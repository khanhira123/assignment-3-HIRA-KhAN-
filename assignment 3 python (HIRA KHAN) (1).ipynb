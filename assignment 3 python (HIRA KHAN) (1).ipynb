{
 "cells": [
  {
   "cell_type": "raw",
   "id": "e4c56209",
   "metadata": {},
   "source": []
  },
  {
   "cell_type": "code",
   "execution_count": 1,
   "id": "b0f51dcf",
   "metadata": {},
   "outputs": [
    {
     "name": "stdout",
     "output_type": "stream",
     "text": [
      "sys.version_info(major=3, minor=8, micro=8, releaselevel='final', serial=0)\n",
      "<class 'sys.version_info'>\n",
      "3\n"
     ]
    }
   ],
   "source": [
    "import sys\n",
    "print(sys.version_info)\n",
    "#sys.version_info(major=3 , minor=7 , micro=0 ,releaselevel='final' , serial=0)\n",
    "\n",
    "print(type(sys.version_info))\n",
    "# <class 'sys.version_info'\n",
    "print(sys.version_info[0])"
   ]
  },
  {
   "cell_type": "code",
   "execution_count": 24,
   "id": "b518fc02",
   "metadata": {},
   "outputs": [
    {
     "name": "stdout",
     "output_type": "stream",
     "text": [
      "today's date: today's time 2021-10-23\n"
     ]
    }
   ],
   "source": [
    "from datetime import date\n",
    "\n",
    "today = date.today()\n",
    "print(\"today's date:\" ,   \"today's time\" , today)"
   ]
  },
  {
   "cell_type": "code",
   "execution_count": 25,
   "id": "2b819a6e",
   "metadata": {},
   "outputs": [
    {
     "name": "stdout",
     "output_type": "stream",
     "text": [
      "input the radius : 2.3\n",
      "The area of the cicle with radiusis:16.619025137490002\n"
     ]
    }
   ],
   "source": [
    "from math import pi\n",
    "r = float(input(\"input the radius : \"))\n",
    "print(\"The area of the cicle with radius\" + \"is:\" + str(pi * r**2))"
   ]
  },
  {
   "cell_type": "code",
   "execution_count": 26,
   "id": "032db939",
   "metadata": {},
   "outputs": [
    {
     "name": "stdout",
     "output_type": "stream",
     "text": [
      "Input your First Name: Hira\n",
      "Input your Last name: Khan\n",
      "Hello KhanHira\n"
     ]
    }
   ],
   "source": [
    "fname = input(\"Input your First Name: \")\n",
    "lname = input(\"Input your Last name: \")\n",
    "print(\"Hello \" + lname +  \"\" + fname)"
   ]
  },
  {
   "cell_type": "code",
   "execution_count": 27,
   "id": "205aa82b",
   "metadata": {},
   "outputs": [
    {
     "name": "stdout",
     "output_type": "stream",
     "text": [
      "enter first number:  45\n",
      "enter second number:  80\n",
      "sum                of 45 and 80 is 125\n"
     ]
    }
   ],
   "source": [
    "a = int(input(\"enter first number:  \"))\n",
    "b = int(input(\"enter second number:  \"))\n",
    "print(\"sum                of\",a, \"and\" , b ,\"is\", a+b)"
   ]
  },
  {
   "cell_type": "code",
   "execution_count": 68,
   "id": "ffa8699d",
   "metadata": {},
   "outputs": [
    {
     "name": "stdout",
     "output_type": "stream",
     "text": [
      "Enter marks of first subject: 90\n",
      "Enter marks of second subject: 80\n",
      "Enter marks of third subject:  70\n",
      "enter marks of fourth subject: 60\n",
      "Enter marks of fifth subject:  50\n",
      "Grade:C\n"
     ]
    }
   ],
   "source": [
    "sub1= int(input(\"Enter marks of first subject: \"))\n",
    "sub2= int(input(\"Enter marks of second subject: \"))\n",
    "sub3= int(input(\"Enter marks of third subject:  \"))\n",
    "sub4= int(input(\"enter marks of fourth subject: \"))\n",
    "sub5= int(input(\"Enter marks of fifth subject:  \"))\n",
    "avg=(sub1+sub2+sub3+sub4+sub5)/5\n",
    "if(avg>=90):\n",
    "    print(\"Grade:A\")\n",
    "elif(avg>=80 and avg<90):\n",
    "    print(\"Grade:B\")\n",
    "elif(avg>=70 and avg<80):\n",
    "    print(\"Grade:C\")\n",
    "elif(avg>=60 and avg<70):\n",
    "    print(\"Grade:D\")\n",
    "else:print(\"Grade:F\")\n",
    "    \n",
    "    "
   ]
  },
  {
   "cell_type": "code",
   "execution_count": 69,
   "id": "5bc76680",
   "metadata": {},
   "outputs": [
    {
     "name": "stdout",
     "output_type": "stream",
     "text": [
      "enter anumber: 89\n",
      "This is an odd number.\n"
     ]
    }
   ],
   "source": [
    "num = int(input(\"enter anumber: \"))\n",
    "mod = num % 2\n",
    "if mod>0:\n",
    "    print(\"This is an odd number.\")\n",
    "else:\n",
    "    print(\"this is an even number\")"
   ]
  },
  {
   "cell_type": "code",
   "execution_count": 72,
   "id": "689682b8",
   "metadata": {},
   "outputs": [
    {
     "name": "stdout",
     "output_type": "stream",
     "text": [
      "the length of list [11, 33, 66, 77, 88, 90] is: 6\n"
     ]
    }
   ],
   "source": [
    "#given list\n",
    "l =[11,33,66,77,88,90]\n",
    "\n",
    "#printing the length using len()\n",
    "print(\"the length of list\",l, \"is:\",len(l))"
   ]
  },
  {
   "cell_type": "code",
   "execution_count": 14,
   "id": "934dc0c4",
   "metadata": {},
   "outputs": [
    {
     "name": "stdout",
     "output_type": "stream",
     "text": [
      "-5\n"
     ]
    }
   ],
   "source": [
    "def sum_list(items):\n",
    "    sum_numbers = 0\n",
    "    for x in items:\n",
    "        sum_numbers += x\n",
    "    return sum_numbers\n",
    "print(sum_list([1 , 2 , -8]))"
   ]
  },
  {
   "cell_type": "code",
   "execution_count": 8,
   "id": "b1f923b8",
   "metadata": {},
   "outputs": [
    {
     "name": "stdout",
     "output_type": "stream",
     "text": [
      "Twinkle,twinkle,little,star,\n",
      "            How I wonder what you are!\n",
      "        up above the what so high,\n",
      "       like a diamond in the sky.\n",
      "       Twinkle,twinkle,little a star,\n",
      "      How I wonder what you are\n"
     ]
    }
   ],
   "source": [
    "print(\"Twinkle,twinkle,little,star,\\n            How I wonder what you are!\\n        up above the what so high,\\n       like a diamond in the sky.\\n       Twinkle,twinkle,little a star,\\n      How I wonder what you are\")"
   ]
  },
  {
   "cell_type": "code",
   "execution_count": 13,
   "id": "3b5ac0d3",
   "metadata": {},
   "outputs": [
    {
     "name": "stdout",
     "output_type": "stream",
     "text": [
      "10\n"
     ]
    }
   ],
   "source": [
    "def max_num_in_list(list):\n",
    "    max = list[0]\n",
    "    for a in list:\n",
    "        if a > max:\n",
    "            max = a\n",
    "    return max\n",
    "print(max_num_in_list([1 , 2 ,-8 ,10]))"
   ]
  },
  {
   "cell_type": "code",
   "execution_count": 15,
   "id": "67989d19",
   "metadata": {},
   "outputs": [
    {
     "name": "stdout",
     "output_type": "stream",
     "text": [
      "1\n",
      "1\n",
      "2\n",
      "3\n"
     ]
    }
   ],
   "source": [
    "a = [1 , 1 , 2 , 3 ,5 , 8 , 13 , 21 ,34 , 55 , 89]\n",
    "for i in a:\n",
    "    if i < 5:\n",
    "        print(i)"
   ]
  },
  {
   "cell_type": "code",
   "execution_count": null,
   "id": "7f85181a",
   "metadata": {},
   "outputs": [],
   "source": []
  },
  {
   "cell_type": "code",
   "execution_count": null,
   "id": "aa034aed",
   "metadata": {},
   "outputs": [],
   "source": []
  }
 ],
 "metadata": {
  "kernelspec": {
   "display_name": "Python 3",
   "language": "python",
   "name": "python3"
  },
  "language_info": {
   "codemirror_mode": {
    "name": "ipython",
    "version": 3
   },
   "file_extension": ".py",
   "mimetype": "text/x-python",
   "name": "python",
   "nbconvert_exporter": "python",
   "pygments_lexer": "ipython3",
   "version": "3.8.8"
  }
 },
 "nbformat": 4,
 "nbformat_minor": 5
}
